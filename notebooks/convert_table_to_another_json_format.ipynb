{
 "cells": [
  {
   "cell_type": "code",
   "execution_count": 4,
   "id": "5a0e9814",
   "metadata": {},
   "outputs": [
    {
     "name": "stdout",
     "output_type": "stream",
     "text": [
      "saved to /Users/raysun/Desktop/RAG-on-Tabular-Data/data/raw/original_data_with_table_in_json/test_with_csv_format_2.json\n"
     ]
    }
   ],
   "source": [
    "import json\n",
    "\n",
    "# load JSON file\n",
    "with open('/Users/raysun/Desktop/RAG-on-Tabular-Data/data/raw/original_data_with_table_in_json/test_with_csv.json', 'r', encoding='utf-8') as f:\n",
    "    data = json.load(f)\n",
    "\n",
    "# convert\n",
    "def transform_table_format(json_data):\n",
    "    for key, value in json_data.items():\n",
    "        if len(value) >= 4 and isinstance(value[3], dict):\n",
    "            table = value[3]\n",
    "            columns = table.get(\"columns\", [])\n",
    "            rows = table.get(\"data\", [])\n",
    "            \n",
    "            transformed_table = {col: [row[i] for row in rows] for i, col in enumerate(columns)}\n",
    "            value[3] = transformed_table  \n",
    "    \n",
    "    return json_data\n",
    "\n",
    "# convert JSON data\n",
    "data_transformed = transform_table_format(data)\n",
    "\n",
    "# save JSON file\n",
    "output_path = '/Users/raysun/Desktop/RAG-on-Tabular-Data/data/raw/original_data_with_table_in_json/test_with_csv_format_2.json'\n",
    "with open(output_path, 'w', encoding='utf-8') as f:\n",
    "    json.dump(data_transformed, f, indent=4, ensure_ascii=False)\n",
    "\n",
    "print(f\"saved to {output_path}\")\n"
   ]
  },
  {
   "cell_type": "code",
   "execution_count": null,
   "id": "1708aebd",
   "metadata": {},
   "outputs": [],
   "source": []
  }
 ],
 "metadata": {
  "kernelspec": {
   "display_name": "Python 3 (ipykernel)",
   "language": "python",
   "name": "python3"
  },
  "language_info": {
   "codemirror_mode": {
    "name": "ipython",
    "version": 3
   },
   "file_extension": ".py",
   "mimetype": "text/x-python",
   "name": "python",
   "nbconvert_exporter": "python",
   "pygments_lexer": "ipython3",
   "version": "3.11.4"
  }
 },
 "nbformat": 4,
 "nbformat_minor": 5
}
