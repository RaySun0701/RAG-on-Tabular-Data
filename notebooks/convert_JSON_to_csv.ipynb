{
 "cells": [
  {
   "cell_type": "markdown",
   "id": "412f92f3",
   "metadata": {},
   "source": [
    "# Use this to convert JSON to csv and store it on your local machine"
   ]
  },
  {
   "cell_type": "code",
   "execution_count": null,
   "id": "2f965d6c",
   "metadata": {},
   "outputs": [],
   "source": [
    "import json\n",
    "import pandas as pd\n",
    "\n",
    "# Read the JSON file again\n",
    "file_path = \"/Users/raysun/Desktop/RAG-on-Tabular-Data/original_data_with_table_in_json/small_sample_with_csv.json\"\n",
    "with open(file_path, \"r\", encoding=\"utf-8\") as f:\n",
    "    data = json.load(f)\n",
    "\n",
    "# Store table data in both JSON and Markdown formats\n",
    "rows = []\n",
    "\n",
    "for filename, content in data.items():\n",
    "    if len(content) < 4:\n",
    "        continue  # Ensure the data format is correct\n",
    "\n",
    "    claims = content[0]  # Extract claims\n",
    "    labels = content[1]  # Corresponding labels\n",
    "    topic = content[2]  # Topic\n",
    "\n",
    "    # Extract table data for JSON format\n",
    "    table_json = {\n",
    "        \"columns\": content[3].get(\"columns\", []),\n",
    "        \"data\": content[3].get(\"data\", [])\n",
    "    }\n",
    "\n",
    "    # Construct Markdown-formatted table without topic\n",
    "    columns = content[3].get(\"columns\", [])\n",
    "    table_data = content[3].get(\"data\", [])\n",
    "\n",
    "    table_md = \"| \" + \" | \".join(columns) + \" |\\n\"\n",
    "    table_md += \"| \" + \" | \".join([\"---\"] * len(columns)) + \" |\\n\"\n",
    "    for row in table_data:\n",
    "        table_md += \"| \" + \" | \".join(str(cell) for cell in row) + \" |\\n\"\n",
    "\n",
    "    # Iterate through claims, storing each as a separate row\n",
    "    for claim, label in zip(claims, labels):\n",
    "        rows.append({\n",
    "            \"key\": filename,\n",
    "            \"claim\": claim,\n",
    "            \"label\": label,\n",
    "            \"topic\": topic,\n",
    "            \"table_JSON_format\": json.dumps(table_json, ensure_ascii=False),  # Convert to JSON string\n",
    "            \"table_markdown_format\": table_md  # Store as Markdown string without topic\n",
    "        })\n",
    "\n",
    "# Convert to DataFrame\n",
    "df = pd.DataFrame(rows)"
   ]
  },
  {
   "cell_type": "code",
   "execution_count": null,
   "id": "29e4a7a0",
   "metadata": {},
   "outputs": [],
   "source": [
    "# Define the output file path\n",
    "output_csv_path = \"/Users/raysun/Desktop/RAG-on-Tabular-Data/data_in_csv_format/small_sample_data_in_csv.csv\"\n",
    "\n",
    "# Save the DataFrame to a CSV file\n",
    "df.to_csv(output_csv_path, index=False, encoding=\"utf-8\")"
   ]
  },
  {
   "cell_type": "markdown",
   "id": "82427f63",
   "metadata": {},
   "source": [
    "# Convert train to csv and sample 1000 rows (500 \"1\"s, 500 \"0\"s)"
   ]
  },
  {
   "cell_type": "code",
   "execution_count": 7,
   "id": "811f403b",
   "metadata": {},
   "outputs": [],
   "source": [
    "import json\n",
    "import pandas as pd\n",
    "\n",
    "# Read the JSON file again\n",
    "file_path = \"/Users/raysun/Downloads/IR_data/original_data_with_table_in_json/train_with_csv.json\"\n",
    "with open(file_path, \"r\", encoding=\"utf-8\") as f:\n",
    "    data = json.load(f)\n",
    "\n",
    "# Store table data in both JSON and Markdown formats\n",
    "rows = []\n",
    "\n",
    "for filename, content in data.items():\n",
    "    if len(content) < 4:\n",
    "        continue  # Ensure the data format is correct\n",
    "\n",
    "    claims = content[0]  # Extract claims\n",
    "    labels = content[1]  # Corresponding labels\n",
    "    topic = content[2]  # Topic\n",
    "\n",
    "    # Extract table data for JSON format\n",
    "    table_json = {\n",
    "        \"columns\": content[3].get(\"columns\", []),\n",
    "        \"data\": content[3].get(\"data\", [])\n",
    "    }\n",
    "\n",
    "    # Construct Markdown-formatted table without topic\n",
    "    columns = content[3].get(\"columns\", [])\n",
    "    table_data = content[3].get(\"data\", [])\n",
    "\n",
    "    table_md = \"| \" + \" | \".join(columns) + \" |\\n\"\n",
    "    table_md += \"| \" + \" | \".join([\"---\"] * len(columns)) + \" |\\n\"\n",
    "    for row in table_data:\n",
    "        table_md += \"| \" + \" | \".join(str(cell) for cell in row) + \" |\\n\"\n",
    "\n",
    "    # Iterate through claims, storing each as a separate row\n",
    "    for claim, label in zip(claims, labels):\n",
    "        rows.append({\n",
    "            \"key\": filename,\n",
    "            \"claim\": claim,\n",
    "            \"label\": label,\n",
    "            \"topic\": topic,\n",
    "            \"table_JSON_format\": json.dumps(table_json, ensure_ascii=False),  # Convert to JSON string\n",
    "            \"table_markdown_format\": table_md  # Store as Markdown string without topic\n",
    "        })\n",
    "\n",
    "# Convert to DataFrame\n",
    "df = pd.DataFrame(rows)"
   ]
  },
  {
   "cell_type": "markdown",
   "id": "ac0554b5",
   "metadata": {},
   "source": [
    "## Sample 1000 rows"
   ]
  },
  {
   "cell_type": "code",
   "execution_count": 8,
   "id": "db73bb9a",
   "metadata": {},
   "outputs": [],
   "source": [
    "# Ensure there are enough samples for each label\n",
    "num_samples_per_label = 500\n",
    "\n",
    "# Filter rows by label\n",
    "df_label_1 = df[df[\"label\"] == 1]\n",
    "df_label_0 = df[df[\"label\"] == 0]\n",
    "\n",
    "# Randomly sample 500 rows from each label group\n",
    "df_sampled_1 = df_label_1.sample(n=min(num_samples_per_label, len(df_label_1)), random_state=42)\n",
    "df_sampled_0 = df_label_0.sample(n=min(num_samples_per_label, len(df_label_0)), random_state=42)\n",
    "\n",
    "# Combine the sampled datasets\n",
    "df_sampled = pd.concat([df_sampled_1, df_sampled_0]).reset_index(drop=True)"
   ]
  },
  {
   "cell_type": "code",
   "execution_count": 9,
   "id": "503cdf96",
   "metadata": {},
   "outputs": [],
   "source": [
    "# Define the output file path\n",
    "output_csv_path = \"/Users/raysun/Desktop/RAG-on-Tabular-Data/data_in_csv_format/train_1000rows_in_csv.csv\"\n",
    "\n",
    "# Save the DataFrame to a CSV file\n",
    "df_sampled.to_csv(output_csv_path, index=False, encoding=\"utf-8\")"
   ]
  },
  {
   "cell_type": "markdown",
   "id": "d6baa888",
   "metadata": {},
   "source": [
    "# Convert test to csv and sample 100 rows (50 \"1\"s, 50 \"0\"s)"
   ]
  },
  {
   "cell_type": "code",
   "execution_count": 10,
   "id": "830d3245",
   "metadata": {},
   "outputs": [],
   "source": [
    "import json\n",
    "import pandas as pd\n",
    "\n",
    "# Read the JSON file again\n",
    "file_path = \"/Users/raysun/Downloads/IR_data/original_data_with_table_in_json/test_with_csv.json\"\n",
    "with open(file_path, \"r\", encoding=\"utf-8\") as f:\n",
    "    data = json.load(f)\n",
    "\n",
    "# Store table data in both JSON and Markdown formats\n",
    "rows = []\n",
    "\n",
    "for filename, content in data.items():\n",
    "    if len(content) < 4:\n",
    "        continue  # Ensure the data format is correct\n",
    "\n",
    "    claims = content[0]  # Extract claims\n",
    "    labels = content[1]  # Corresponding labels\n",
    "    topic = content[2]  # Topic\n",
    "\n",
    "    # Extract table data for JSON format\n",
    "    table_json = {\n",
    "        \"columns\": content[3].get(\"columns\", []),\n",
    "        \"data\": content[3].get(\"data\", [])\n",
    "    }\n",
    "\n",
    "    # Construct Markdown-formatted table without topic\n",
    "    columns = content[3].get(\"columns\", [])\n",
    "    table_data = content[3].get(\"data\", [])\n",
    "\n",
    "    table_md = \"| \" + \" | \".join(columns) + \" |\\n\"\n",
    "    table_md += \"| \" + \" | \".join([\"---\"] * len(columns)) + \" |\\n\"\n",
    "    for row in table_data:\n",
    "        table_md += \"| \" + \" | \".join(str(cell) for cell in row) + \" |\\n\"\n",
    "\n",
    "    # Iterate through claims, storing each as a separate row\n",
    "    for claim, label in zip(claims, labels):\n",
    "        rows.append({\n",
    "            \"key\": filename,\n",
    "            \"claim\": claim,\n",
    "            \"label\": label,\n",
    "            \"topic\": topic,\n",
    "            \"table_JSON_format\": json.dumps(table_json, ensure_ascii=False),  # Convert to JSON string\n",
    "            \"table_markdown_format\": table_md  # Store as Markdown string without topic\n",
    "        })\n",
    "\n",
    "# Convert to DataFrame\n",
    "df = pd.DataFrame(rows)"
   ]
  },
  {
   "cell_type": "markdown",
   "id": "be91c4ef",
   "metadata": {},
   "source": [
    "## Sample 100 rows"
   ]
  },
  {
   "cell_type": "code",
   "execution_count": 11,
   "id": "c0620888",
   "metadata": {},
   "outputs": [],
   "source": [
    "# Ensure there are enough samples for each label\n",
    "num_samples_per_label = 50\n",
    "\n",
    "# Filter rows by label\n",
    "df_label_1 = df[df[\"label\"] == 1]\n",
    "df_label_0 = df[df[\"label\"] == 0]\n",
    "\n",
    "# Randomly sample 500 rows from each label group\n",
    "df_sampled_1 = df_label_1.sample(n=min(num_samples_per_label, len(df_label_1)), random_state=42)\n",
    "df_sampled_0 = df_label_0.sample(n=min(num_samples_per_label, len(df_label_0)), random_state=42)\n",
    "\n",
    "# Combine the sampled datasets\n",
    "df_sampled = pd.concat([df_sampled_1, df_sampled_0]).reset_index(drop=True)"
   ]
  },
  {
   "cell_type": "code",
   "execution_count": 12,
   "id": "f94f638d",
   "metadata": {},
   "outputs": [],
   "source": [
    "# Define the output file path\n",
    "output_csv_path = \"/Users/raysun/Desktop/RAG-on-Tabular-Data/data_in_csv_format/test_100rows_in_csv.csv\"\n",
    "\n",
    "# Save the DataFrame to a CSV file\n",
    "df_sampled.to_csv(output_csv_path, index=False, encoding=\"utf-8\")"
   ]
  },
  {
   "cell_type": "markdown",
   "id": "65c07ba4",
   "metadata": {},
   "source": [
    "# Convert val to csv and sample 100 rows (50 \"1\"s, 50 \"0\"s)"
   ]
  },
  {
   "cell_type": "code",
   "execution_count": 13,
   "id": "78f8787c",
   "metadata": {},
   "outputs": [],
   "source": [
    "import json\n",
    "import pandas as pd\n",
    "\n",
    "# Read the JSON file again\n",
    "file_path = \"/Users/raysun/Downloads/IR_data/original_data_with_table_in_json/val_with_csv.json\"\n",
    "with open(file_path, \"r\", encoding=\"utf-8\") as f:\n",
    "    data = json.load(f)\n",
    "\n",
    "# Store table data in both JSON and Markdown formats\n",
    "rows = []\n",
    "\n",
    "for filename, content in data.items():\n",
    "    if len(content) < 4:\n",
    "        continue  # Ensure the data format is correct\n",
    "\n",
    "    claims = content[0]  # Extract claims\n",
    "    labels = content[1]  # Corresponding labels\n",
    "    topic = content[2]  # Topic\n",
    "\n",
    "    # Extract table data for JSON format\n",
    "    table_json = {\n",
    "        \"columns\": content[3].get(\"columns\", []),\n",
    "        \"data\": content[3].get(\"data\", [])\n",
    "    }\n",
    "\n",
    "    # Construct Markdown-formatted table without topic\n",
    "    columns = content[3].get(\"columns\", [])\n",
    "    table_data = content[3].get(\"data\", [])\n",
    "\n",
    "    table_md = \"| \" + \" | \".join(columns) + \" |\\n\"\n",
    "    table_md += \"| \" + \" | \".join([\"---\"] * len(columns)) + \" |\\n\"\n",
    "    for row in table_data:\n",
    "        table_md += \"| \" + \" | \".join(str(cell) for cell in row) + \" |\\n\"\n",
    "\n",
    "    # Iterate through claims, storing each as a separate row\n",
    "    for claim, label in zip(claims, labels):\n",
    "        rows.append({\n",
    "            \"key\": filename,\n",
    "            \"claim\": claim,\n",
    "            \"label\": label,\n",
    "            \"topic\": topic,\n",
    "            \"table_JSON_format\": json.dumps(table_json, ensure_ascii=False),  # Convert to JSON string\n",
    "            \"table_markdown_format\": table_md  # Store as Markdown string without topic\n",
    "        })\n",
    "\n",
    "# Convert to DataFrame\n",
    "df = pd.DataFrame(rows)"
   ]
  },
  {
   "cell_type": "markdown",
   "id": "f0046f45",
   "metadata": {},
   "source": [
    "## Sample 100 rows"
   ]
  },
  {
   "cell_type": "code",
   "execution_count": 14,
   "id": "0a6e09d8",
   "metadata": {},
   "outputs": [],
   "source": [
    "# Ensure there are enough samples for each label\n",
    "num_samples_per_label = 50\n",
    "\n",
    "# Filter rows by label\n",
    "df_label_1 = df[df[\"label\"] == 1]\n",
    "df_label_0 = df[df[\"label\"] == 0]\n",
    "\n",
    "# Randomly sample 500 rows from each label group\n",
    "df_sampled_1 = df_label_1.sample(n=min(num_samples_per_label, len(df_label_1)), random_state=42)\n",
    "df_sampled_0 = df_label_0.sample(n=min(num_samples_per_label, len(df_label_0)), random_state=42)\n",
    "\n",
    "# Combine the sampled datasets\n",
    "df_sampled = pd.concat([df_sampled_1, df_sampled_0]).reset_index(drop=True)"
   ]
  },
  {
   "cell_type": "code",
   "execution_count": 15,
   "id": "aa3f7c38",
   "metadata": {},
   "outputs": [],
   "source": [
    "# Define the output file path\n",
    "output_csv_path = \"/Users/raysun/Desktop/RAG-on-Tabular-Data/data_in_csv_format/val_100rows_in_csv.csv\"\n",
    "\n",
    "# Save the DataFrame to a CSV file\n",
    "df_sampled.to_csv(output_csv_path, index=False, encoding=\"utf-8\")"
   ]
  }
 ],
 "metadata": {
  "kernelspec": {
   "display_name": "Python 3 (ipykernel)",
   "language": "python",
   "name": "python3"
  },
  "language_info": {
   "codemirror_mode": {
    "name": "ipython",
    "version": 3
   },
   "file_extension": ".py",
   "mimetype": "text/x-python",
   "name": "python",
   "nbconvert_exporter": "python",
   "pygments_lexer": "ipython3",
   "version": "3.11.4"
  }
 },
 "nbformat": 4,
 "nbformat_minor": 5
}
