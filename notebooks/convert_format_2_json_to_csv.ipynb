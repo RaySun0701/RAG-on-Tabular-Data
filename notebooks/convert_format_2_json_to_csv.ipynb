{
 "cells": [
  {
   "cell_type": "code",
   "execution_count": 1,
   "id": "077d7375",
   "metadata": {},
   "outputs": [
    {
     "name": "stdout",
     "output_type": "stream",
     "text": [
      "CSV file has been saved to /Users/raysun/Desktop/RAG-on-Tabular-Data/data/processed/data_in_csv_format/small_sample_data_in_csv_format_2.csv\n"
     ]
    }
   ],
   "source": [
    "import json\n",
    "import pandas as pd\n",
    "\n",
    "# Load the JSON file\n",
    "input_path = '/Users/raysun/Desktop/RAG-on-Tabular-Data/data/raw/original_data_with_table_in_json/small_sample_with_csv_format_2.json'\n",
    "output_path = '/Users/raysun/Desktop/RAG-on-Tabular-Data/data/processed/data_in_csv_format/small_sample_data_in_csv_format_2.csv'\n",
    "\n",
    "with open(input_path, 'r', encoding='utf-8') as f:\n",
    "    data = json.load(f)\n",
    "\n",
    "# Initialize an empty list to store extracted data\n",
    "records = []\n",
    "\n",
    "# Iterate through each key in the JSON file\n",
    "for key, value in data.items():\n",
    "    claims = value[0]  # List of claims\n",
    "    labels = value[1]  # Corresponding labels\n",
    "    topic = value[2]   # Topic of the dataset\n",
    "    table = value[3]   # Table in JSON format\n",
    "    \n",
    "    # Convert table to JSON string format\n",
    "    table_json = json.dumps(table, ensure_ascii=False)\n",
    "    \n",
    "    # Extract claims and corresponding labels\n",
    "    for claim, label in zip(claims, labels):\n",
    "        records.append({\n",
    "            \"key\": key,\n",
    "            \"claim\": claim,\n",
    "            \"label\": label,\n",
    "            \"topic\": topic,\n",
    "            \"table_JSON_format\": table_json\n",
    "        })\n",
    "\n",
    "# Convert to DataFrame\n",
    "df = pd.DataFrame(records)\n",
    "\n",
    "# Save the DataFrame to a CSV file\n",
    "df.to_csv(output_path, index=False, encoding='utf-8')\n",
    "\n",
    "print(f\"CSV file has been saved to {output_path}\")"
   ]
  },
  {
   "cell_type": "code",
   "execution_count": null,
   "id": "9918365f",
   "metadata": {},
   "outputs": [],
   "source": []
  }
 ],
 "metadata": {
  "kernelspec": {
   "display_name": "Python 3 (ipykernel)",
   "language": "python",
   "name": "python3"
  },
  "language_info": {
   "codemirror_mode": {
    "name": "ipython",
    "version": 3
   },
   "file_extension": ".py",
   "mimetype": "text/x-python",
   "name": "python",
   "nbconvert_exporter": "python",
   "pygments_lexer": "ipython3",
   "version": "3.11.4"
  }
 },
 "nbformat": 4,
 "nbformat_minor": 5
}
